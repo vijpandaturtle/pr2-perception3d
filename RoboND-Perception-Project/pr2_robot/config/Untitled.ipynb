{
 "cells": [
  {
   "cell_type": "code",
   "execution_count": 75,
   "metadata": {},
   "outputs": [
    {
     "name": "stdout",
     "output_type": "stream",
     "text": [
      "['sticky_notes', 'soap', 'eraser', 'biscuits', 'glue', 'book', 'snacks', 'soap2']\n"
     ]
    }
   ],
   "source": [
    "import yaml\n",
    "\n",
    "object_names = []\n",
    "for i in range(1,4):\n",
    "    filename = 'pick_list_{}.yaml'.format(i)\n",
    "    with open(filename,'r') as stream:\n",
    "        data = yaml.load(stream)\n",
    "        for i in range(len(data['object_list'])):\n",
    "            object_names.append(data['object_list'][i]['name'])\n",
    "\n",
    "final = set(object_names)\n",
    "print(list(final))"
   ]
  }
 ],
 "metadata": {
  "kernelspec": {
   "display_name": "Python 3",
   "language": "python",
   "name": "python3"
  },
  "language_info": {
   "codemirror_mode": {
    "name": "ipython",
    "version": 3
   },
   "file_extension": ".py",
   "mimetype": "text/x-python",
   "name": "python",
   "nbconvert_exporter": "python",
   "pygments_lexer": "ipython3",
   "version": "3.5.2"
  },
  "widgets": {
   "state": {},
   "version": "1.1.2"
  }
 },
 "nbformat": 4,
 "nbformat_minor": 2
}
